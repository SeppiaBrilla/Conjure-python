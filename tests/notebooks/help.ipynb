{
 "cells": [
  {
   "cell_type": "code",
   "execution_count": 1,
   "metadata": {},
   "outputs": [],
   "source": [
    "import os\n",
    "os.environ[\"PATH\"] =\"/home/seppiabrilla/conjure/:\" + os.environ[\"PATH\"]\n",
    "%load_ext conjure_python"
   ]
  },
  {
   "cell_type": "code",
   "execution_count": 2,
   "metadata": {},
   "outputs": [
    {
     "data": {
      "text/markdown": [
       "\n",
       "Conjure Notebook comes with a number of magic commands (i.e. commands that start with a % sign). The extension also defines a few special variable/function names to implement specialised functionality.\n",
       "\n",
       "## Magic commands\n",
       "\n",
       "- `%%conjure`: Runs the provided model. Parameter values are converted from Python to Essence and solution values are converted from Essence to Python automatically. All valid [command line arguments](https://conjure.readthedocs.io/en/latest/cli.html) to `conjure solve` can be passed to this magic command in the first line.\n",
       "\n",
       "- `%%conjure+`: Append mode. Same as `%%conjure`, except appends the newly provided model fragment to the last solved model before running.\n",
       "\n",
       "- `%conjure_print`, `%conjure_print_pretty`, `%conjure_print_ast`: print the last solved model in various formats.\n",
       "\n",
       "- `%conjure_rollback`: remove the last conjure model fragment that was added via `%%conjure+`\n",
       "\n",
       "- `%conjure_settings`: \n",
       "\n",
       "## Special variable/function names\n",
       "\n",
       "- `conjure_solutions`: a Python array that contains the set of solutions returned by Conjure.\n",
       "\n",
       "- `conjure_info`: a Python dictionary that contains some statistics about the solving process.\n",
       "\n",
       "- `conjure_display_solution()`: a Python function that will be called per solution, if defined. If it's not defined, Conjure Notebook will display the entire solution as a JSON dump.\n",
       "\n",
       "    If you don't want solution printing, define it to do nothing (i.e. `def conjure_display_solution(): pass`).\n",
       "\n",
       "    Takes no arguments. When defining, you can refer to the decision variables by their names.\n",
       "\n",
       "- `conjure_display_info()`: a Python function that will be called per solution, if defined. If it's not defined, Conjure Notebook will display all available information as a table.\n",
       "\n",
       "    If you don't want information printing, define it to do nothing (i.e. `def conjure_display_info(): pass`).\n",
       "\n",
       "    Takes no arguments. When defining, you can use the `conjure_info` dictionary.\n",
       "\n",
       "More information about Conjure: https://conjure-cp.github.io\n",
       "        "
      ],
      "text/plain": [
       "<IPython.core.display.Markdown object>"
      ]
     },
     "metadata": {},
     "output_type": "display_data"
    }
   ],
   "source": [
    "%conjure_help"
   ]
  },
  {
   "cell_type": "code",
   "execution_count": 3,
   "metadata": {},
   "outputs": [],
   "source": [
    "def conjure_display_info(): pass"
   ]
  },
  {
   "cell_type": "code",
   "execution_count": 4,
   "metadata": {},
   "outputs": [
    {
     "data": {
      "text/markdown": [
       "```json\n",
       "{\"x\": 4, \"xyz\": 483, \"y\": 8, \"z\": 3}\n",
       "```"
      ],
      "text/plain": [
       "<IPython.core.display.Markdown object>"
      ]
     },
     "metadata": {},
     "output_type": "display_data"
    }
   ],
   "source": [
    "%%conjure\n",
    "\n",
    "find x,y,z : int(0..9)\n",
    "find xyz : int(400..800)\n",
    "minimising xyz\n",
    "such that\n",
    "  xyz = 100 * x + 10 * y + z,\n",
    "  x + y + z = 15,\n",
    "  y = 2 * x"
   ]
  },
  {
   "cell_type": "code",
   "execution_count": 5,
   "metadata": {},
   "outputs": [],
   "source": [
    "w = 6"
   ]
  },
  {
   "cell_type": "code",
   "execution_count": 6,
   "metadata": {},
   "outputs": [
    {
     "data": {
      "text/markdown": [
       "```json\n",
       "{\"x\": 6}\n",
       "```"
      ],
      "text/plain": [
       "<IPython.core.display.Markdown object>"
      ]
     },
     "metadata": {},
     "output_type": "display_data"
    }
   ],
   "source": [
    "%%conjure\n",
    "given w: int\n",
    "find x: int(-10..10)\n",
    "such that\n",
    "x = w"
   ]
  }
 ],
 "metadata": {
  "interpreter": {
   "hash": "e7370f93d1d0cde622a1f8e1c04877d8463912d04d973331ad4851f04de6915a"
  },
  "kernelspec": {
   "display_name": "Python 3.10.12 64-bit",
   "language": "python",
   "name": "python3"
  },
  "language_info": {
   "codemirror_mode": {
    "name": "ipython",
    "version": 3
   },
   "file_extension": ".py",
   "mimetype": "text/x-python",
   "name": "python",
   "nbconvert_exporter": "python",
   "pygments_lexer": "ipython3",
   "version": "3.10.12"
  },
  "orig_nbformat": 4,
  "vscode": {
   "interpreter": {
    "hash": "e7370f93d1d0cde622a1f8e1c04877d8463912d04d973331ad4851f04de6915a"
   }
  }
 },
 "nbformat": 4,
 "nbformat_minor": 2
}
