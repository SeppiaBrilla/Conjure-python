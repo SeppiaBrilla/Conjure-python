{
 "cells": [
  {
   "cell_type": "code",
   "execution_count": 1,
   "metadata": {},
   "outputs": [],
   "source": [
    "import os\n",
    "os.environ[\"PATH\"] =\"/home/seppiabrilla/conjure/:\" + os.environ[\"PATH\"]\n",
    "%load_ext conjure_python"
   ]
  },
  {
   "cell_type": "code",
   "execution_count": 2,
   "metadata": {},
   "outputs": [],
   "source": [
    "def conjure_display_info(): pass"
   ]
  },
  {
   "cell_type": "code",
   "execution_count": 3,
   "metadata": {},
   "outputs": [
    {
     "data": {
      "text/markdown": [
       "```json\n",
       "{\"x\": 4, \"xyz\": 483, \"y\": 8, \"z\": 3}\n",
       "```"
      ],
      "text/plain": [
       "<IPython.core.display.Markdown object>"
      ]
     },
     "metadata": {},
     "output_type": "display_data"
    }
   ],
   "source": [
    "%%conjure\n",
    "\n",
    "find x,y,\n",
    "z : int(0..9)\n",
    "find xyz \n",
    ":     int(400..800)\n",
    "minimising xyz\n",
    "such that\n",
    "  xyz = 100 * \n",
    "  x + 10 * y + \n",
    "  z,\n",
    "  x + \n",
    "  y\n",
    "  + z = 15,\n",
    "  y = 2\n",
    "  * x"
   ]
  },
  {
   "cell_type": "code",
   "execution_count": 4,
   "metadata": {},
   "outputs": [
    {
     "name": "stdout",
     "output_type": "stream",
     "text": [
      "\n",
      "find x,y,\n",
      "z : int(0..9)\n",
      "find xyz \n",
      ":     int(400..800)\n",
      "minimising xyz\n",
      "such that\n",
      "  xyz = 100 * \n",
      "  x + 10 * y + \n",
      "  z,\n",
      "  x + \n",
      "  y\n",
      "  + z = 15,\n",
      "  y = 2\n",
      "  * x\n",
      "\n"
     ]
    }
   ],
   "source": [
    "%conjure_print"
   ]
  },
  {
   "cell_type": "code",
   "execution_count": 5,
   "metadata": {},
   "outputs": [
    {
     "name": "stdout",
     "output_type": "stream",
     "text": [
      "language Essence 1.3\n",
      "\n",
      "find x: int(0..9)\n",
      "find y: int(0..9)\n",
      "find z: int(0..9)\n",
      "find xyz: int(400..800)\n",
      "minimising xyz\n",
      "such that\n",
      "    xyz = 100 * x + 10 * y + z,\n",
      "    x + y + z = 15,\n",
      "    y = 2 * x\n",
      "\n",
      "\n"
     ]
    }
   ],
   "source": [
    "%conjure_print_pretty"
   ]
  },
  {
   "cell_type": "code",
   "execution_count": 6,
   "metadata": {},
   "outputs": [
    {
     "data": {
      "text/markdown": [
       "```json\n",
       "{\"mInfo\": {\"finds\": [], \"givens\": [], \"enumGivens\": [], \"enumLettings\": [], \"lettings\": [], \"unnameds\": [], \"strategyQ\": {\"Auto\": {\"Interactive\": []}}, \"strategyA\": {\"Auto\": {\"Interactive\": []}}, \"trailCompact\": [], \"nameGenState\": [], \"nbExtraGivens\": 0, \"representations\": [], \"representationsTree\": [], \"originalDomains\": [], \"trailGeneralised\": [], \"trailVerbose\": [], \"trailRewrites\": []}, \"mLanguage\": {\"language\": {\"Name\": \"Essence\"}, \"version\": [1, 3]}, \"mStatements\": [{\"Declaration\": {\"FindOrGiven\": [\"Find\", {\"Name\": \"x\"}, {\"DomainInt\": [{\"TagInt\": []}, [{\"RangeBounded\": [{\"Constant\": {\"ConstantInt\": [{\"TagInt\": []}, 0]}}, {\"Constant\": {\"ConstantInt\": [{\"TagInt\": []}, 9]}}]}]]}]}}, {\"Declaration\": {\"FindOrGiven\": [\"Find\", {\"Name\": \"y\"}, {\"DomainInt\": [{\"TagInt\": []}, [{\"RangeBounded\": [{\"Constant\": {\"ConstantInt\": [{\"TagInt\": []}, 0]}}, {\"Constant\": {\"ConstantInt\": [{\"TagInt\": []}, 9]}}]}]]}]}}, {\"Declaration\": {\"FindOrGiven\": [\"Find\", {\"Name\": \"z\"}, {\"DomainInt\": [{\"TagInt\": []}, [{\"RangeBounded\": [{\"Constant\": {\"ConstantInt\": [{\"TagInt\": []}, 0]}}, {\"Constant\": {\"ConstantInt\": [{\"TagInt\": []}, 9]}}]}]]}]}}, {\"Declaration\": {\"FindOrGiven\": [\"Find\", {\"Name\": \"xyz\"}, {\"DomainInt\": [{\"TagInt\": []}, [{\"RangeBounded\": [{\"Constant\": {\"ConstantInt\": [{\"TagInt\": []}, 400]}}, {\"Constant\": {\"ConstantInt\": [{\"TagInt\": []}, 800]}}]}]]}]}}, {\"Objective\": [\"Minimising\", {\"Reference\": [{\"Name\": \"xyz\"}, null]}]}, {\"SuchThat\": [{\"Op\": {\"MkOpEq\": [{\"Reference\": [{\"Name\": \"xyz\"}, null]}, {\"Op\": {\"MkOpSum\": {\"AbstractLiteral\": {\"AbsLitMatrix\": [{\"DomainInt\": [{\"TagInt\": []}, [{\"RangeBounded\": [{\"Constant\": {\"ConstantInt\": [{\"TagInt\": []}, 1]}}, {\"Constant\": {\"ConstantInt\": [{\"TagInt\": []}, 2]}}]}]]}, [{\"Op\": {\"MkOpSum\": {\"AbstractLiteral\": {\"AbsLitMatrix\": [{\"DomainInt\": [{\"TagInt\": []}, [{\"RangeBounded\": [{\"Constant\": {\"ConstantInt\": [{\"TagInt\": []}, 1]}}, {\"Constant\": {\"ConstantInt\": [{\"TagInt\": []}, 2]}}]}]]}, [{\"Op\": {\"MkOpProduct\": {\"AbstractLiteral\": {\"AbsLitMatrix\": [{\"DomainInt\": [{\"TagInt\": []}, [{\"RangeBounded\": [{\"Constant\": {\"ConstantInt\": [{\"TagInt\": []}, 1]}}, {\"Constant\": {\"ConstantInt\": [{\"TagInt\": []}, 2]}}]}]]}, [{\"Constant\": {\"ConstantInt\": [{\"TagInt\": []}, 100]}}, {\"Reference\": [{\"Name\": \"x\"}, null]}]]}}}}, {\"Op\": {\"MkOpProduct\": {\"AbstractLiteral\": {\"AbsLitMatrix\": [{\"DomainInt\": [{\"TagInt\": []}, [{\"RangeBounded\": [{\"Constant\": {\"ConstantInt\": [{\"TagInt\": []}, 1]}}, {\"Constant\": {\"ConstantInt\": [{\"TagInt\": []}, 2]}}]}]]}, [{\"Constant\": {\"ConstantInt\": [{\"TagInt\": []}, 10]}}, {\"Reference\": [{\"Name\": \"y\"}, null]}]]}}}}]]}}}}, {\"Reference\": [{\"Name\": \"z\"}, null]}]]}}}}]}}, {\"Op\": {\"MkOpEq\": [{\"Op\": {\"MkOpSum\": {\"AbstractLiteral\": {\"AbsLitMatrix\": [{\"DomainInt\": [{\"TagInt\": []}, [{\"RangeBounded\": [{\"Constant\": {\"ConstantInt\": [{\"TagInt\": []}, 1]}}, {\"Constant\": {\"ConstantInt\": [{\"TagInt\": []}, 2]}}]}]]}, [{\"Op\": {\"MkOpSum\": {\"AbstractLiteral\": {\"AbsLitMatrix\": [{\"DomainInt\": [{\"TagInt\": []}, [{\"RangeBounded\": [{\"Constant\": {\"ConstantInt\": [{\"TagInt\": []}, 1]}}, {\"Constant\": {\"ConstantInt\": [{\"TagInt\": []}, 2]}}]}]]}, [{\"Reference\": [{\"Name\": \"x\"}, null]}, {\"Reference\": [{\"Name\": \"y\"}, null]}]]}}}}, {\"Reference\": [{\"Name\": \"z\"}, null]}]]}}}}, {\"Constant\": {\"ConstantInt\": [{\"TagInt\": []}, 15]}}]}}, {\"Op\": {\"MkOpEq\": [{\"Reference\": [{\"Name\": \"y\"}, null]}, {\"Op\": {\"MkOpProduct\": {\"AbstractLiteral\": {\"AbsLitMatrix\": [{\"DomainInt\": [{\"TagInt\": []}, [{\"RangeBounded\": [{\"Constant\": {\"ConstantInt\": [{\"TagInt\": []}, 1]}}, {\"Constant\": {\"ConstantInt\": [{\"TagInt\": []}, 2]}}]}]]}, [{\"Constant\": {\"ConstantInt\": [{\"TagInt\": []}, 2]}}, {\"Reference\": [{\"Name\": \"x\"}, null]}]]}}}}]}}]}]}\n",
       "```"
      ],
      "text/plain": [
       "<IPython.core.display.Markdown object>"
      ]
     },
     "metadata": {},
     "output_type": "display_data"
    }
   ],
   "source": [
    "%conjure_print_ast"
   ]
  }
 ],
 "metadata": {
  "interpreter": {
   "hash": "e7370f93d1d0cde622a1f8e1c04877d8463912d04d973331ad4851f04de6915a"
  },
  "kernelspec": {
   "display_name": "Python 3.10.12 64-bit",
   "language": "python",
   "name": "python3"
  },
  "language_info": {
   "codemirror_mode": {
    "name": "ipython",
    "version": 3
   },
   "file_extension": ".py",
   "mimetype": "text/x-python",
   "name": "python",
   "nbconvert_exporter": "python",
   "pygments_lexer": "ipython3",
   "version": "3.10.12"
  },
  "orig_nbformat": 4,
  "vscode": {
   "interpreter": {
    "hash": "e7370f93d1d0cde622a1f8e1c04877d8463912d04d973331ad4851f04de6915a"
   }
  }
 },
 "nbformat": 4,
 "nbformat_minor": 2
}
